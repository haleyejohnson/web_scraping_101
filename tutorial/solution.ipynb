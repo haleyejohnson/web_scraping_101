{
 "cells": [
  {
   "cell_type": "markdown",
   "metadata": {},
   "source": [
    "# Web Scraping 101"
   ]
  },
  {
   "cell_type": "code",
   "execution_count": null,
   "metadata": {},
   "outputs": [],
   "source": [
    "import requests\n",
    "from bs4 import BeautifulSoup\n",
    "from collections import defaultdict"
   ]
  },
  {
   "cell_type": "markdown",
   "metadata": {},
   "source": [
    "## Step 1: Grab content from the web"
   ]
  },
  {
   "cell_type": "code",
   "execution_count": null,
   "metadata": {},
   "outputs": [],
   "source": [
    "URL = 'https://en.wikipedia.org/wiki/List_of_sovereign_states'"
   ]
  },
  {
   "cell_type": "code",
   "execution_count": null,
   "metadata": {},
   "outputs": [],
   "source": [
    "resp = requests.get(URL)\n",
    "\n",
    "if resp.status_code == 200: \n",
    "    soup = BeautifulSoup(resp.text, 'html.parser')\n",
    "else: \n",
    "    raise Exception('Request unsuccesful')"
   ]
  },
  {
   "cell_type": "markdown",
   "metadata": {},
   "source": [
    "## Step 2: Extract Table\n",
    "\n",
    "We are looking for the *second* table on the page (the legend that explains the color coding is formatted as a table)"
   ]
  },
  {
   "cell_type": "code",
   "execution_count": null,
   "metadata": {},
   "outputs": [],
   "source": [
    "tables = soup.find_all('table')\n",
    "target_table = tables[1]\n",
    "\n",
    "headers = target_table.find_all('th')\n",
    "rows = target_table.find_all('tr')"
   ]
  },
  {
   "cell_type": "code",
   "execution_count": null,
   "metadata": {},
   "outputs": [],
   "source": [
    "header_text = []\n",
    "\n",
    "for header in headers: \n",
    "    header_contents = header.contents\n",
    "    text = []\n",
    "    for content in header_contents:\n",
    "        text.append(content.text)\n",
    "    \n",
    "    header_text.append(\" \".join(text))"
   ]
  },
  {
   "cell_type": "code",
   "execution_count": null,
   "metadata": {},
   "outputs": [],
   "source": [
    "countries_data = []\n",
    "for row in rows[1:50]:\n",
    "    row_data = row.find_all('td')\n",
    "    country_data = []\n",
    "    for field in row_data:\n",
    "        country_data.append(field.text.strip('\\n').replace('\\xa0', ''))\n",
    "    countries_data.append(country_data)"
   ]
  },
  {
   "cell_type": "markdown",
   "metadata": {},
   "source": [
    "## Step 3: Find Elements with Selectors\n",
    "\n",
    "Using class attribute to get all the flags"
   ]
  },
  {
   "cell_type": "code",
   "execution_count": null,
   "metadata": {},
   "outputs": [],
   "source": [
    "IMG_CLASS = 'mw-file-element'"
   ]
  },
  {
   "cell_type": "code",
   "execution_count": null,
   "metadata": {},
   "outputs": [],
   "source": [
    "flags = target_table.find_all('img', class_=IMG_CLASS)"
   ]
  },
  {
   "cell_type": "code",
   "execution_count": null,
   "metadata": {},
   "outputs": [],
   "source": [
    "flag_urls = []\n",
    "for flag in flags:\n",
    "    if flag.has_attr('src'):\n",
    "        flag_urls.append(flag['src'])"
   ]
  }
 ],
 "metadata": {
  "kernelspec": {
   "display_name": "base",
   "language": "python",
   "name": "python3"
  },
  "language_info": {
   "codemirror_mode": {
    "name": "ipython",
    "version": 3
   },
   "file_extension": ".py",
   "mimetype": "text/x-python",
   "name": "python",
   "nbconvert_exporter": "python",
   "pygments_lexer": "ipython3",
   "version": "3.11.11"
  }
 },
 "nbformat": 4,
 "nbformat_minor": 2
}
